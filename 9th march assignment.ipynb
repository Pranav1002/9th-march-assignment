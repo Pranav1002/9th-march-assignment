{
 "cells": [
  {
   "cell_type": "markdown",
   "id": "60dbf168-5fee-4c6e-8c59-d6766ee0e8ba",
   "metadata": {},
   "source": [
    "# Q1: What are the Probability Mass Function (PMF) and Probability Density Function (PDF)? Explain with an example.\n",
    "\n",
    "---> The PMF is used for discrete random variables and gives the probability that a random variable takes on a specific value. For example, if we have a fair six-sided die, the PMF would give us a probability of 1/6 for each possible outcome.\n",
    "\n",
    "---> The PDF is used for continuous random variables and gives the probability density at each point in the distribution. The area under the curve of a PDF between two points gives the probability that a random variable falls between those two points. For example, if we have a normal distribution with mean 0 and standard deviation 1, the PDF would give us the probability density at each point along the curve."
   ]
  },
  {
   "cell_type": "markdown",
   "id": "f8e514a6-afa1-4b01-8045-ac518c00a3e2",
   "metadata": {},
   "source": [
    "  "
   ]
  },
  {
   "cell_type": "markdown",
   "id": "2c0dcc42-e515-436d-9772-1182c73508d3",
   "metadata": {},
   "source": [
    "# Q2: What is Cumulative Density Function (CDF)? Explain with an example. Why CDF is used?\n",
    "\n",
    "---> The Cumulative Density Function (CDF) is a function that gives the probability that a random variable X is less than or equal to a certain value x. It is defined as: F(x) = P(X <= x)\n",
    "\n",
    "---> The CDF can be used to find probabilities for any distribution, whether it is discrete or continuous.\n",
    "\n",
    "---> For example, if we have a normal distribution with mean 0 and standard deviation 1, we can use the CDF to find the probability that a random variable falls between two values.\n",
    "\n",
    "---> The CDF is used because it provides a way to find probabilities for any distribution\n",
    "\n",
    "---> Here are given some useful properties of CDF.\n",
    "\n",
    "    * The CDF is always non-decreasing.\n",
    "    \n",
    "    * The CDF approaches 0 as x approaches negative infinity and approaches 1 as x approaches positive infinity.\n",
    "\n",
    "    *The area under the curve of the CDF between two points gives the probability that a random variable falls between those two points."
   ]
  },
  {
   "cell_type": "markdown",
   "id": "cc32cf3f-f066-4d05-8e8d-968495ca8da4",
   "metadata": {},
   "source": [
    "  "
   ]
  },
  {
   "cell_type": "markdown",
   "id": "d3e1c192-9075-4853-9871-ea57cf02d666",
   "metadata": {},
   "source": [
    "# Q3: What are some examples of situations where the normal distribution might be used as a model? Explain how the parameters of the normal distribution relate to the shape of the distribution.\n",
    "\n",
    "---> Here are given some examples of situations where the noraml dsitribution is used as as model.\n",
    "    \n",
    "    * Heights of people in a population\n",
    "    * Weights of objects produced by a manufacturing process\n",
    "    * Errors in measurements or observations\n",
    "    * Test scores on a standardized test\n",
    "    * IQ scores in a population\n",
    "    * Blood pressure readings in a population\n",
    "    \n",
    "---> The normal distribution is characterized by two parameters: the mean and the standard deviation. \n",
    "\n",
    "---> If mean is increased, the entire distribution will shift to the right. If mean is decreased, the entire distribution will shift to the left.\n",
    "\n",
    "---> If satndard deviation is increased, the distribution will become more spread out. If standard deviation is decreased, the distribution will become more narrow."
   ]
  },
  {
   "cell_type": "markdown",
   "id": "4bf6a0fe-71c4-4e4b-8da8-f0db4b99233f",
   "metadata": {},
   "source": [
    " "
   ]
  },
  {
   "cell_type": "markdown",
   "id": "0becc666-8699-4487-b940-a87c38fafd18",
   "metadata": {},
   "source": [
    "# Q4: Explain the importance of Normal Distribution. Give a few real-life examples of Normal Distribution. \n",
    "\n",
    "---> The normal distribution is important because it is a very common probability distribution that is used to model many different types of data\n",
    "---> It has some useful properties, such as:\n",
    "    \n",
    "    * It is symmetric around the mean.\n",
    "    \n",
    "    * It has a bell-shaped curve.\n",
    "    \n",
    "    * The mean, median, and mode are all equal.\n",
    "    \n",
    "    * Many natural phenomena follow a normal distribution.\n",
    "    \n",
    "---> Here are some examples of real-life situations where the normal distribution might be used:\n",
    "\n",
    "    * Heights of people in a population\n",
    "    \n",
    "    * Weights of objects produced by a manufacturing process\n",
    "    \n",
    "    * Errors in measurements or observations\n",
    "    \n",
    "    * Test scores on a standardized test\n",
    "    \n",
    "    * IQ scores in a population\n",
    "    \n",
    "    * Blood pressure readings in a population"
   ]
  },
  {
   "cell_type": "markdown",
   "id": "3e543268-664f-45b7-8da2-b8034475b7ea",
   "metadata": {},
   "source": [
    "  "
   ]
  },
  {
   "cell_type": "markdown",
   "id": "3b295b0b-5107-48ef-a80e-47f919297cda",
   "metadata": {},
   "source": [
    "# Q5: What is Bernaulli Distribution? Give an Example. What is the difference between Bernoulli Distribution and Binomial Distribution?\n",
    "\n",
    "---> Bernoulli distribution is a discrete probability distribution that describes a single experiment that can have two possible outcomes, usually called success and failure. \n",
    "\n",
    "--->  For example, flipping a coin has two possible outcomes, heads or tails. If we define heads as success (with probability p) and tails as failure (with probability 1-p), then we can model this experiment using Bernoulli distribution.\n",
    "\n",
    "---> The difference between Bernoulli distribution and Binomial distribution is that Bernoulli distribution describes a single experiment with two possible outcomes while Binomial distribution describes the number of successes in a fixed number of independent Bernoulli trials."
   ]
  },
  {
   "cell_type": "markdown",
   "id": "a46781a5-8ef0-410a-9511-c6dc5818e77e",
   "metadata": {},
   "source": [
    "   "
   ]
  },
  {
   "cell_type": "markdown",
   "id": "1ab66bf5-f513-458b-a5d1-ac8277ba222b",
   "metadata": {},
   "source": [
    "# Q6. Consider a dataset with a mean of 50 and a standard deviation of 10. If we assume that the dataset is normally distributed, what is the probability that a randomly selected observation will be greater than 60? Use the appropriate formula and show your calculations."
   ]
  },
  {
   "cell_type": "markdown",
   "id": "47a59b49-70da-4c40-9798-368d580ee9e4",
   "metadata": {},
   "source": [
    "First we have to calcualte the value of z-score.\n",
    "\n",
    "z = (60-50)/10\n",
    "=> z = 1\n",
    "\n",
    "Now we have to check probability of (z>1) in the standard normal distribution function.\n",
    "\n",
    "for P(z>1) = 0.1587\n",
    "\n",
    "which is 15.87% "
   ]
  },
  {
   "cell_type": "markdown",
   "id": "6a7e723a-342e-43c4-ab8e-139c3765d988",
   "metadata": {},
   "source": [
    "   "
   ]
  },
  {
   "cell_type": "markdown",
   "id": "d3b92f03-764c-4cef-a3fe-44fcb1cbd7f2",
   "metadata": {},
   "source": [
    "# Q7: Explain uniform Distribution with an example.\n",
    "\n",
    "---> Uniform distribution is a statistical distribution where all outcomes have an equal likelihood of occurring. It is defined by two events x and y,      where x is the minimum value and y is the maximum value and is denoted as u (x,y)\n",
    "\n",
    "---> Rolling and die is a good example of uniform distribution, as the possible outcomes are 1,2,3,4,5,6 and all have equal probability which is 1/6.\n"
   ]
  },
  {
   "cell_type": "markdown",
   "id": "0615236d-ed38-483a-b2fe-f8698b27e111",
   "metadata": {},
   "source": [
    "  "
   ]
  },
  {
   "cell_type": "markdown",
   "id": "05948270-2cef-46e3-ae2e-400969282f5c",
   "metadata": {},
   "source": [
    "# Q8: What is the z score? State the importance of the z score.\n",
    "\n",
    "---> The Z-score is a statistical measurement that tells us how many standard deviations away from the mean a data point is.\n",
    "\n",
    "---> It’s important because it lets statisticians and traders know whether a score falls within the norm for a given data set or deviates from it\n",
    "\n",
    "---> Z-scores help you understand where a specific observation falls within a distribution.\n",
    "\n",
    "---> For example, if a z-score is 1.5, it is 1.5 standard deviations away from the mean."
   ]
  },
  {
   "cell_type": "markdown",
   "id": "3dca6123-c853-421d-a014-198689bcbb19",
   "metadata": {},
   "source": [
    "  "
   ]
  },
  {
   "cell_type": "markdown",
   "id": "d6b07f4d-df79-4ebc-bb82-6c53ffaf5cfc",
   "metadata": {},
   "source": [
    "# Q9: What is Central Limit Theorem? State the significance of the Central Limit Theorem.\n",
    "\n",
    "---> The Central Limit Theorem (CLT) states that if you take sufficiently large samples from a population, the samples’ means will be normally distributed, even if the population isn’t normally distributed.\n",
    "\n",
    "---> The significance of Central Limit Theorem is that it provides a way to make inferences about a population based on a sample drawn from that population"
   ]
  },
  {
   "cell_type": "markdown",
   "id": "4b44328b-4fb1-486a-b408-b8767efcaf7b",
   "metadata": {},
   "source": [
    "\n"
   ]
  },
  {
   "cell_type": "markdown",
   "id": "10b04f4e-4138-4449-a1a5-68d21435d3a9",
   "metadata": {},
   "source": [
    "# Q10: State the assumptions of the Central Limit Theorem\n",
    "\n",
    "---> The Central Limit Theorem has following 4 key assumptions.\n",
    "\n",
    "    * The sample size should be sufficiently large (n > 30).\n",
    "    * The samples should be independent of each other.\n",
    "    * The population should have a finite mean and variance.\n",
    "    * The sample size should be less than 10% of the population size."
   ]
  },
  {
   "cell_type": "code",
   "execution_count": null,
   "id": "240c4c5e-f691-4138-b2dc-fdd9cab766ed",
   "metadata": {},
   "outputs": [],
   "source": []
  }
 ],
 "metadata": {
  "kernelspec": {
   "display_name": "Python 3 (ipykernel)",
   "language": "python",
   "name": "python3"
  },
  "language_info": {
   "codemirror_mode": {
    "name": "ipython",
    "version": 3
   },
   "file_extension": ".py",
   "mimetype": "text/x-python",
   "name": "python",
   "nbconvert_exporter": "python",
   "pygments_lexer": "ipython3",
   "version": "3.10.6"
  }
 },
 "nbformat": 4,
 "nbformat_minor": 5
}
